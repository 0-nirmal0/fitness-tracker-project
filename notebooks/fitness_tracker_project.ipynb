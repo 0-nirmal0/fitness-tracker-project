{
 "cells": [
  {
   "cell_type": "code",
   "execution_count": 1,
   "id": "fe8584ec-774b-4b27-8c69-6d4a213a30b9",
   "metadata": {},
   "outputs": [],
   "source": [
    "import pandas as pd\n",
    "import numpy as np\n",
    "import matplotlib.pyplot as plt\n",
    "\n",
    "# Display plots inside the notebook\n",
    "%matplotlib inline\n"
   ]
  },
  {
   "cell_type": "code",
   "execution_count": 2,
   "id": "482eee9f-4bf5-4ab9-81b5-e9277b99ba7f",
   "metadata": {},
   "outputs": [],
   "source": [
    "# Fix randomness so results stay the same\n",
    "np.random.seed(0)"
   ]
  },
  {
   "cell_type": "code",
   "execution_count": 3,
   "id": "795e7654-76c9-4d56-aaa4-8a0671f71e99",
   "metadata": {},
   "outputs": [],
   "source": [
    "# Users and dates\n",
    "user_ids = [101, 102, 103, 104, 105]\n",
    "dates = pd.date_range(start='2025-01-01', periods=30, freq='D')\n"
   ]
  },
  {
   "cell_type": "code",
   "execution_count": 4,
   "id": "76922d5b-7cd9-4185-85b1-67166f9b29f2",
   "metadata": {},
   "outputs": [],
   "source": [
    "# Generate data\n",
    "rows = []\n",
    "for user in user_ids:\n",
    "    for day in dates:\n",
    "        steps = int(np.random.normal(10000, 3000))\n",
    "        steps = max(0, steps)\n",
    "        calories = int(0.04 * steps + np.random.normal(200, 50))\n",
    "        workout = max(0, int(np.random.normal(30, 15)))\n",
    "        hr = int(np.random.normal(70, 5))\n",
    "        rows.append({\n",
    "            \"user_id\": user,\n",
    "            \"date\": day.strftime('%Y-%m-%d'),\n",
    "            \"steps\": steps,\n",
    "            \"calories\": calories,\n",
    "            \"workout_min\": workout,\n",
    "            \"heart_rate\": hr\n",
    "        })\n"
   ]
  },
  {
   "cell_type": "code",
   "execution_count": 5,
   "id": "0288b2c9-beee-4ba7-99a5-266dc54513de",
   "metadata": {},
   "outputs": [],
   "source": [
    "# Make DataFrame\n",
    "df = pd.DataFrame(rows)\n"
   ]
  },
  {
   "cell_type": "code",
   "execution_count": 6,
   "id": "8cfa161d-c5d7-4efa-91b2-e752e2f643b8",
   "metadata": {},
   "outputs": [
    {
     "data": {
      "text/html": [
       "<div>\n",
       "<style scoped>\n",
       "    .dataframe tbody tr th:only-of-type {\n",
       "        vertical-align: middle;\n",
       "    }\n",
       "\n",
       "    .dataframe tbody tr th {\n",
       "        vertical-align: top;\n",
       "    }\n",
       "\n",
       "    .dataframe thead th {\n",
       "        text-align: right;\n",
       "    }\n",
       "</style>\n",
       "<table border=\"1\" class=\"dataframe\">\n",
       "  <thead>\n",
       "    <tr style=\"text-align: right;\">\n",
       "      <th></th>\n",
       "      <th>user_id</th>\n",
       "      <th>date</th>\n",
       "      <th>steps</th>\n",
       "      <th>calories</th>\n",
       "      <th>workout_min</th>\n",
       "      <th>heart_rate</th>\n",
       "    </tr>\n",
       "  </thead>\n",
       "  <tbody>\n",
       "    <tr>\n",
       "      <th>0</th>\n",
       "      <td>101</td>\n",
       "      <td>2025-01-01</td>\n",
       "      <td>15292</td>\n",
       "      <td>831</td>\n",
       "      <td>44</td>\n",
       "      <td>81</td>\n",
       "    </tr>\n",
       "    <tr>\n",
       "      <th>1</th>\n",
       "      <td>101</td>\n",
       "      <td>2025-01-02</td>\n",
       "      <td>15602</td>\n",
       "      <td>775</td>\n",
       "      <td>44</td>\n",
       "      <td>69</td>\n",
       "    </tr>\n",
       "    <tr>\n",
       "      <th>2</th>\n",
       "      <td>101</td>\n",
       "      <td>2025-01-03</td>\n",
       "      <td>9690</td>\n",
       "      <td>608</td>\n",
       "      <td>32</td>\n",
       "      <td>77</td>\n",
       "    </tr>\n",
       "    <tr>\n",
       "      <th>3</th>\n",
       "      <td>101</td>\n",
       "      <td>2025-01-04</td>\n",
       "      <td>12283</td>\n",
       "      <td>697</td>\n",
       "      <td>36</td>\n",
       "      <td>71</td>\n",
       "    </tr>\n",
       "    <tr>\n",
       "      <th>4</th>\n",
       "      <td>101</td>\n",
       "      <td>2025-01-05</td>\n",
       "      <td>14482</td>\n",
       "      <td>769</td>\n",
       "      <td>34</td>\n",
       "      <td>65</td>\n",
       "    </tr>\n",
       "  </tbody>\n",
       "</table>\n",
       "</div>"
      ],
      "text/plain": [
       "   user_id        date  steps  calories  workout_min  heart_rate\n",
       "0      101  2025-01-01  15292       831           44          81\n",
       "1      101  2025-01-02  15602       775           44          69\n",
       "2      101  2025-01-03   9690       608           32          77\n",
       "3      101  2025-01-04  12283       697           36          71\n",
       "4      101  2025-01-05  14482       769           34          65"
      ]
     },
     "execution_count": 6,
     "metadata": {},
     "output_type": "execute_result"
    }
   ],
   "source": [
    "# Show first 5 rows\n",
    "df.head()"
   ]
  },
  {
   "cell_type": "code",
   "execution_count": null,
   "id": "9e90c91b-b108-4abe-9134-ac6907829afc",
   "metadata": {},
   "outputs": [],
   "source": []
  }
 ],
 "metadata": {
  "kernelspec": {
   "display_name": "Python [conda env:base] *",
   "language": "python",
   "name": "conda-base-py"
  },
  "language_info": {
   "codemirror_mode": {
    "name": "ipython",
    "version": 3
   },
   "file_extension": ".py",
   "mimetype": "text/x-python",
   "name": "python",
   "nbconvert_exporter": "python",
   "pygments_lexer": "ipython3",
   "version": "3.13.5"
  }
 },
 "nbformat": 4,
 "nbformat_minor": 5
}
