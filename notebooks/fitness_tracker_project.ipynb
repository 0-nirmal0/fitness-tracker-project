{
 "cells": [
  {
   "cell_type": "code",
   "execution_count": 1,
   "id": "be4d7f37",
   "metadata": {
    "vscode": {
     "languageId": "markdown"
    }
   },
   "outputs": [
    {
     "name": "stdout",
     "output_type": "stream",
     "text": [
      "Project root: c:\\Users\\misnm\\OneDrive\\Documents\\fitness-tracker-project\\notebooks\n"
     ]
    }
   ],
   "source": [
    "# Project Setup\n",
    "import os\n",
    "import pandas as pd\n",
    "import matplotlib.pyplot as plt\n",
    "\n",
    "# Make sure we are in project folder\n",
    "project_root = os.getcwd()\n",
    "print(\"Project root:\", project_root)\n",
    "\n",
    "# Create data folder if not exists\n",
    "os.makedirs(\"data\", exist_ok=True)\n"
   ]
  },
  {
   "cell_type": "code",
   "execution_count": 4,
   "id": "6da52f2e",
   "metadata": {
    "vscode": {
     "languageId": "markdown"
    }
   },
   "outputs": [],
   "source": [
    "# Load dataset\n",
    "df = pd.read_csv(\"C:/Users/misnm/OneDrive/Documents/fitness-tracker-project/data/fitness_data.csv\")\n"
   ]
  },
  {
   "cell_type": "code",
   "execution_count": 5,
   "id": "c1e93b96",
   "metadata": {
    "vscode": {
     "languageId": "markdown"
    }
   },
   "outputs": [
    {
     "name": "stdout",
     "output_type": "stream",
     "text": [
      "   user_id        date  steps  calories  workout_min  heart_rate\n",
      "0      101  2025-01-01  15292       831           44          81\n",
      "1      101  2025-01-02  15602       775           44          69\n",
      "2      101  2025-01-03   9690       608           32          77\n",
      "3      101  2025-01-04  12283       697           36          71\n",
      "4      101  2025-01-05  14482       769           34          65\n",
      "\n",
      "Shape of dataset: (150, 6)\n"
     ]
    }
   ],
   "source": [
    "# Peek at data\n",
    "print(df.head())\n",
    "print(\"\\nShape of dataset:\", df.shape)\n"
   ]
  },
  {
   "cell_type": "code",
   "execution_count": 6,
   "id": "a17a2bf9",
   "metadata": {
    "vscode": {
     "languageId": "markdown"
    }
   },
   "outputs": [
    {
     "name": "stdout",
     "output_type": "stream",
     "text": [
      "<class 'pandas.core.frame.DataFrame'>\n",
      "RangeIndex: 150 entries, 0 to 149\n",
      "Data columns (total 6 columns):\n",
      " #   Column       Non-Null Count  Dtype         \n",
      "---  ------       --------------  -----         \n",
      " 0   user_id      150 non-null    int64         \n",
      " 1   date         150 non-null    datetime64[ns]\n",
      " 2   steps        150 non-null    int64         \n",
      " 3   calories     150 non-null    int64         \n",
      " 4   workout_min  150 non-null    int64         \n",
      " 5   heart_rate   150 non-null    int64         \n",
      "dtypes: datetime64[ns](1), int64(5)\n",
      "memory usage: 7.2 KB\n",
      "None\n"
     ]
    }
   ],
   "source": [
    "# Basic cleaning\n",
    "# Convert date column to datetime\n",
    "df['date'] = pd.to_datetime(df['date'], errors='coerce')\n",
    "\n",
    "# Drop any missing values\n",
    "df = df.dropna()\n",
    "\n",
    "print(df.info())\n"
   ]
  },
  {
   "cell_type": "code",
   "execution_count": 7,
   "id": "19d4cbab",
   "metadata": {
    "vscode": {
     "languageId": "markdown"
    }
   },
   "outputs": [
    {
     "name": "stdout",
     "output_type": "stream",
     "text": [
      "          user_id                 date         steps    calories  workout_min  \\\n",
      "count  150.000000                  150    150.000000  150.000000   150.000000   \n",
      "mean   103.000000  2025-01-15 12:00:00   9887.780000  586.873333    27.613333   \n",
      "min    101.000000  2025-01-01 00:00:00   2341.000000  317.000000     0.000000   \n",
      "25%    102.000000  2025-01-08 00:00:00   7827.500000  494.250000    17.250000   \n",
      "50%    103.000000  2025-01-15 12:00:00   9638.500000  582.000000    27.000000   \n",
      "75%    104.000000  2025-01-23 00:00:00  12306.250000  682.500000    36.750000   \n",
      "max    105.000000  2025-01-30 00:00:00  17149.000000  933.000000    70.000000   \n",
      "std      1.418951                  NaN   3154.554823  133.626108    14.278057   \n",
      "\n",
      "       heart_rate  \n",
      "count  150.000000  \n",
      "mean    70.113333  \n",
      "min     56.000000  \n",
      "25%     67.000000  \n",
      "50%     70.000000  \n",
      "75%     73.000000  \n",
      "max     81.000000  \n",
      "std      4.973131  \n",
      "Unique users: 5\n"
     ]
    }
   ],
   "source": [
    "# Basic descriptive statistics\n",
    "print(df.describe())\n",
    "\n",
    "# Unique users\n",
    "print(\"Unique users:\", df['user_id'].nunique())\n"
   ]
  }
 ],
 "metadata": {
  "kernelspec": {
   "display_name": "base",
   "language": "python",
   "name": "python3"
  },
  "language_info": {
   "codemirror_mode": {
    "name": "ipython",
    "version": 3
   },
   "file_extension": ".py",
   "mimetype": "text/x-python",
   "name": "python",
   "nbconvert_exporter": "python",
   "pygments_lexer": "ipython3",
   "version": "3.13.5"
  }
 },
 "nbformat": 4,
 "nbformat_minor": 5
}
