{
 "cells": [
  {
   "cell_type": "code",
   "execution_count": 1,
   "id": "be4d7f37",
   "metadata": {
    "vscode": {
     "languageId": "markdown"
    }
   },
   "outputs": [
    {
     "name": "stdout",
     "output_type": "stream",
     "text": [
      "Project root: c:\\Users\\misnm\\OneDrive\\Documents\\fitness-tracker-project\\notebooks\n"
     ]
    }
   ],
   "source": [
    "# Project Setup\n",
    "import os\n",
    "import pandas as pd\n",
    "import matplotlib.pyplot as plt\n",
    "\n",
    "# Make sure we are in project folder\n",
    "project_root = os.getcwd()\n",
    "print(\"Project root:\", project_root)\n",
    "\n",
    "# Create data folder if not exists\n",
    "os.makedirs(\"data\", exist_ok=True)\n"
   ]
  },
  {
   "cell_type": "code",
   "execution_count": 4,
   "id": "6da52f2e",
   "metadata": {
    "vscode": {
     "languageId": "markdown"
    }
   },
   "outputs": [],
   "source": [
    "# Load dataset\n",
    "df = pd.read_csv(\"C:/Users/misnm/OneDrive/Documents/fitness-tracker-project/data/fitness_data.csv\")\n"
   ]
  },
  {
   "cell_type": "code",
   "execution_count": 5,
   "id": "c1e93b96",
   "metadata": {
    "vscode": {
     "languageId": "markdown"
    }
   },
   "outputs": [
    {
     "name": "stdout",
     "output_type": "stream",
     "text": [
      "   user_id        date  steps  calories  workout_min  heart_rate\n",
      "0      101  2025-01-01  15292       831           44          81\n",
      "1      101  2025-01-02  15602       775           44          69\n",
      "2      101  2025-01-03   9690       608           32          77\n",
      "3      101  2025-01-04  12283       697           36          71\n",
      "4      101  2025-01-05  14482       769           34          65\n",
      "\n",
      "Shape of dataset: (150, 6)\n"
     ]
    }
   ],
   "source": [
    "# Peek at data\n",
    "print(df.head())\n",
    "print(\"\\nShape of dataset:\", df.shape)\n"
   ]
  }
 ],
 "metadata": {
  "kernelspec": {
   "display_name": "base",
   "language": "python",
   "name": "python3"
  },
  "language_info": {
   "codemirror_mode": {
    "name": "ipython",
    "version": 3
   },
   "file_extension": ".py",
   "mimetype": "text/x-python",
   "name": "python",
   "nbconvert_exporter": "python",
   "pygments_lexer": "ipython3",
   "version": "3.13.5"
  }
 },
 "nbformat": 4,
 "nbformat_minor": 5
}
